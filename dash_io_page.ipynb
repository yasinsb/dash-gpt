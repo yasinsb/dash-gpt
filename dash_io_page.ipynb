{
 "cells": [
  {
   "cell_type": "code",
   "execution_count": 1,
   "metadata": {},
   "outputs": [],
   "source": [
    "# make sure modules ger reloaded on any change\n",
    "%load_ext autoreload\n",
    "%autoreload 2\n",
    "\n",
    "import os\n",
    "import sys\n",
    "\n",
    "# add the 'src' directory as one where we can import modules\n",
    "src_dir = os.path.join(os.getcwd(), os.pardir, 'src')\n",
    "sys.path.append(src_dir)\n"
   ]
  },
  {
   "cell_type": "code",
   "execution_count": 2,
   "metadata": {},
   "outputs": [],
   "source": [
    "# imports \n",
    "\n",
    "import dash\n",
    "from dash import dcc\n",
    "from dash import html\n",
    "from dash.dependencies import Input, Output, State\n",
    "\n",
    "from jupyter_dash import JupyterDash\n"
   ]
  },
  {
   "cell_type": "code",
   "execution_count": 3,
   "metadata": {},
   "outputs": [
    {
     "ename": "NameError",
     "evalue": "name 'true' is not defined",
     "output_type": "error",
     "traceback": [
      "\u001b[0;31m---------------------------------------------------------------------------\u001b[0m",
      "\u001b[0;31mNameError\u001b[0m                                 Traceback (most recent call last)",
      "Cell \u001b[0;32mIn[3], line 63\u001b[0m\n\u001b[1;32m     60\u001b[0m         \u001b[39mreturn\u001b[39;00m \u001b[39m'\u001b[39m\u001b[39m'\u001b[39m\n\u001b[1;32m     62\u001b[0m \u001b[39mif\u001b[39;00m \u001b[39m__name__\u001b[39m \u001b[39m==\u001b[39m \u001b[39m'\u001b[39m\u001b[39m__main__\u001b[39m\u001b[39m'\u001b[39m:\n\u001b[0;32m---> 63\u001b[0m     app\u001b[39m.\u001b[39mrun_server(debug\u001b[39m=\u001b[39mtrue, port\u001b[39m=\u001b[39m\u001b[39m8055\u001b[39m)\n",
      "\u001b[0;31mNameError\u001b[0m: name 'true' is not defined"
     ]
    }
   ],
   "source": [
    "# define the app for web page view\n",
    "app = JupyterDash(__name__)\n",
    "\n",
    "\n",
    "# define the layout\n",
    "app.layout = html.Div([\n",
    "    html.H1('Title', style={'textAlign': 'center'}),\n",
    "    html.Div([\n",
    "        dcc.Textarea(\n",
    "            id='instruction-textbox',\n",
    "            placeholder='Please type your message in the box below the page.',\n",
    "            #make this text non-editable\n",
    "            contentEditable=False,\n",
    "            style={'width': '100%'}\n",
    "        )\n",
    "    ], style={'width': '30%', 'margin': 'auto'}),\n",
    "\n",
    "    # create a div with a text box that its content will be updated after clicking the button\n",
    "    # the content could be long text, so we use a text area with a scroll bar\n",
    "    html.Div([\n",
    "        dcc.Textarea(\n",
    "            id='text-box',\n",
    "            placeholder='This is a text area',\n",
    "            value='',\n",
    "            contentEditable=False,\n",
    "            style={'width': '100%', 'height': 300, 'overflowY': 'scroll'}\n",
    "        )\n",
    "    ], style={'width': '70%', 'margin': 'auto'}\n",
    "    ),\n",
    "    # create a input text box and a submit button on its right side\n",
    "    html.Div([\n",
    "        dcc.Input(id='input-box', type='text', value=''),\n",
    "        html.Button('Submit', id='submit-button', n_clicks=0)\n",
    "    ], style={'width': '70%', 'margin': 'auto', 'marginTop': '10px', 'align': 'center', })\n",
    "],\n",
    "style={'width': '100%', 'margin': 'auto', 'backgroundColor': '#f2f2f2'}\n",
    ")\n",
    "\n",
    "# create a callback function to update the text box content by adding the input text to it\n",
    "# with every submit click input text will be added to the text box\n",
    "# and the input box will be cleaned\n",
    "@app.callback(\n",
    "    Output('text-box', 'value'),\n",
    "    [Input('submit-button', 'n_clicks')],\n",
    "    [State('input-box', 'value'),\n",
    "        State('text-box', 'value')])\n",
    "def update_output(n_clicks, input_value, text_box_value):\n",
    "    if n_clicks > 0:\n",
    "        return text_box_value + '\\n' + input_value\n",
    "    else:\n",
    "        return text_box_value\n",
    "# define another function to response to same call back and cleans the input box\n",
    "@app.callback(\n",
    "    Output('input-box', 'value'),\n",
    "    [Input('submit-button', 'n_clicks')])\n",
    "def clean_input_box(n_clicks):\n",
    "    if n_clicks > 0:\n",
    "        return ''\n",
    "    else:\n",
    "        return ''\n",
    "    \n",
    "if __name__ == '__main__':\n",
    "    app.run_server(debug=True, port=8055)\n"
   ]
  },
  {
   "cell_type": "code",
   "execution_count": null,
   "metadata": {},
   "outputs": [],
   "source": []
  }
 ],
 "metadata": {
  "kernelspec": {
   "display_name": "casl-dev",
   "language": "python",
   "name": "python3"
  },
  "language_info": {
   "codemirror_mode": {
    "name": "ipython",
    "version": 3
   },
   "file_extension": ".py",
   "mimetype": "text/x-python",
   "name": "python",
   "nbconvert_exporter": "python",
   "pygments_lexer": "ipython3",
   "version": "3.8.16"
  },
  "orig_nbformat": 4
 },
 "nbformat": 4,
 "nbformat_minor": 2
}
